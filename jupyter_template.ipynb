{
 "cells": [
  {
   "cell_type": "markdown",
   "metadata": {},
   "source": [
    "# Jupyter Notebooks & Python\n",
    "\n",
    "**NOTE:** This is a template designed to demonstrate a literate programming workflow that incorporates Markdown text with Python code. As we work through this, please use the opportunity to practice Markdown syntax and coding - write anything and code anything! For now, accuracy is less important than practice!"
   ]
  },
  {
   "cell_type": "markdown",
   "metadata": {},
   "source": [
    "## Jupyter Tips\n",
    "\n",
    "Unlike an R Markdown file, which has to be *knit* in order for Markdown to be rendered, in a Jupyter Notebook we only need to execute a cell of Markdown formatted text. \n",
    "\n",
    "When a new cell is created, by default it is a code block for executing Python, R, or any other supported language. The convert cells into Markdown cells, we can\n",
    "\n",
    "* type ```ESC + m``` OR\n",
    "* select **Cell->Cell Type->Markdown**.\n",
    "\n",
    "Once we have coverted the cell to Markdown, we can render it by running or executing the cell. Here again we have mouse/menu and keyboard options. Making sure the cell we want to execute is selected, we can\n",
    "\n",
    "* hit the **Run** button at the top of the screen OR\n",
    "* select **Cell->Run Cells** OR\n",
    "* type ```CTL + Enter``` to run the cell OR\n",
    "* type ```SHIFT + Enter``` to run the cell and create a new, empty cell.\n",
    "\n",
    "Double click a Markdown cell to edit it once it has been rendered. Alternatively, with the cell selected hit ```Enter```.\n",
    "\n",
    "Sometimes we may accidentally hit a keyboard combination that converts a code cell to a Markdown or raw text cell. When this happens, we can use a similar process as above to convert a cell to code:\n",
    "\n",
    "* type ```ESC + Y``` OR\n",
    "* select **Cell->Cell Type->Code**.\n",
    "\n",
    "Code cells are executed using the same commands or keyboard shortcuts as listed above for rendering Markdown."
   ]
  },
  {
   "cell_type": "markdown",
   "metadata": {},
   "source": [
    "## Abstract\n",
    "\n",
    "Write a brief paragraph about the research topic. For our purposes today, replace this text with a sentence or two about the dataset and trends you expect to explore. Include a bulleted list.\n",
    "\n",
    "* One thing the data may indicate\n",
    "* A second thing the data may indicate\n",
    "\n",
    "*keywords*: markdown, jupyter, python, literate computing\n",
    "\n",
    "## Introduction\n",
    "\n",
    "Write a sentence or two about why we are interested in this topic. What makes it relevant or interesting? What can we learn from studying this topic? Also add some research questions in the form of a numbered list.\n",
    "\n",
    "1. Research question 1\n",
    "1. Research question 2\n",
    "\n",
    "## Methods\n",
    "\n",
    "Refer to the dataset documentation at <http://data.cabq.gov/government/vendorcheckbook/MetaData.pdf>. Replace this test with a summary of how the data are collected, quality assured, etc. Add third level headers as appropriate. An example outline may be:\n",
    "\n",
    "### Data Collection\n",
    "\n",
    "Info here\n",
    "\n",
    "\n",
    "### Quality Assurance\n",
    "\n",
    "Info here"
   ]
  },
  {
   "cell_type": "markdown",
   "metadata": {},
   "source": [
    "## Results\n",
    "\n",
    "Add some text explaining your analysis. Include Markdown and code blocks."
   ]
  },
  {
   "cell_type": "code",
   "execution_count": 1,
   "metadata": {},
   "outputs": [],
   "source": [
    "# Import libraries - this will work if Anaconda is installed\n",
    "# If using some other Python distribution, it may be necessary\n",
    "# to install some of these libraries.\n",
    "\n",
    "import pandas as pd\n",
    "import numpy as np\n",
    "import matplotlib.pyplot as plt"
   ]
  },
  {
   "cell_type": "code",
   "execution_count": 2,
   "metadata": {},
   "outputs": [],
   "source": [
    "# Read the city checkbook data\n",
    "ckbk = pd.read_csv(\"./data/abq_vendor_data_2019-2021.csv\")"
   ]
  },
  {
   "cell_type": "markdown",
   "metadata": {},
   "source": [
    "Note that Jupyter provides a nicely formatted output for tables."
   ]
  },
  {
   "cell_type": "code",
   "execution_count": 4,
   "metadata": {},
   "outputs": [
    {
     "data": {
      "text/html": [
       "<div>\n",
       "<style scoped>\n",
       "    .dataframe tbody tr th:only-of-type {\n",
       "        vertical-align: middle;\n",
       "    }\n",
       "\n",
       "    .dataframe tbody tr th {\n",
       "        vertical-align: top;\n",
       "    }\n",
       "\n",
       "    .dataframe thead th {\n",
       "        text-align: right;\n",
       "    }\n",
       "</style>\n",
       "<table border=\"1\" class=\"dataframe\">\n",
       "  <thead>\n",
       "    <tr style=\"text-align: right;\">\n",
       "      <th></th>\n",
       "      <th>NAME1</th>\n",
       "      <th>PAYMENT REFERENCE NUMBER</th>\n",
       "      <th>INVOICE NUMBER</th>\n",
       "      <th>INVOICE DATE</th>\n",
       "      <th>PAYMENT DATE</th>\n",
       "      <th>INVOICE AMOUNT</th>\n",
       "      <th>invoice_year</th>\n",
       "      <th>invoice_month</th>\n",
       "      <th>payment_year</th>\n",
       "      <th>payment_month</th>\n",
       "      <th>billed_duration</th>\n",
       "    </tr>\n",
       "  </thead>\n",
       "  <tbody>\n",
       "    <tr>\n",
       "      <th>0</th>\n",
       "      <td>1 ST HEALTH INC</td>\n",
       "      <td>9411323</td>\n",
       "      <td>NMSM4976-110320FMV</td>\n",
       "      <td>2020-11-03</td>\n",
       "      <td>2020-12-08</td>\n",
       "      <td>34.25</td>\n",
       "      <td>2020</td>\n",
       "      <td>11</td>\n",
       "      <td>2020</td>\n",
       "      <td>12</td>\n",
       "      <td>35.0</td>\n",
       "    </tr>\n",
       "    <tr>\n",
       "      <th>1</th>\n",
       "      <td>10 TANKER AIR CARRIER</td>\n",
       "      <td>9414239</td>\n",
       "      <td>TCA122320</td>\n",
       "      <td>2020-12-23</td>\n",
       "      <td>2021-01-06</td>\n",
       "      <td>7635.13</td>\n",
       "      <td>2020</td>\n",
       "      <td>12</td>\n",
       "      <td>2021</td>\n",
       "      <td>1</td>\n",
       "      <td>14.0</td>\n",
       "    </tr>\n",
       "    <tr>\n",
       "      <th>2</th>\n",
       "      <td>101 PROPERTY, LLC</td>\n",
       "      <td>2668912</td>\n",
       "      <td>SMLL_BUS_GRNT_236</td>\n",
       "      <td>2020-12-02</td>\n",
       "      <td>2020-12-04</td>\n",
       "      <td>10000.00</td>\n",
       "      <td>2020</td>\n",
       "      <td>12</td>\n",
       "      <td>2020</td>\n",
       "      <td>12</td>\n",
       "      <td>2.0</td>\n",
       "    </tr>\n",
       "    <tr>\n",
       "      <th>3</th>\n",
       "      <td>110 SUNPORT LLC DBA HOLIDAY</td>\n",
       "      <td>2668724</td>\n",
       "      <td>SMLL_BUS_GRNT_146</td>\n",
       "      <td>2020-11-18</td>\n",
       "      <td>2020-11-19</td>\n",
       "      <td>10000.00</td>\n",
       "      <td>2020</td>\n",
       "      <td>11</td>\n",
       "      <td>2020</td>\n",
       "      <td>11</td>\n",
       "      <td>1.0</td>\n",
       "    </tr>\n",
       "    <tr>\n",
       "      <th>4</th>\n",
       "      <td>13TH JUDICIAL DISTRICT COURT</td>\n",
       "      <td>2670551</td>\n",
       "      <td>05212021</td>\n",
       "      <td>2021-05-21</td>\n",
       "      <td>2021-05-21</td>\n",
       "      <td>6200.00</td>\n",
       "      <td>2021</td>\n",
       "      <td>5</td>\n",
       "      <td>2021</td>\n",
       "      <td>5</td>\n",
       "      <td>0.0</td>\n",
       "    </tr>\n",
       "  </tbody>\n",
       "</table>\n",
       "</div>"
      ],
      "text/plain": [
       "                          NAME1  PAYMENT REFERENCE NUMBER      INVOICE NUMBER  \\\n",
       "0               1 ST HEALTH INC                   9411323  NMSM4976-110320FMV   \n",
       "1         10 TANKER AIR CARRIER                   9414239           TCA122320   \n",
       "2             101 PROPERTY, LLC                   2668912   SMLL_BUS_GRNT_236   \n",
       "3   110 SUNPORT LLC DBA HOLIDAY                   2668724   SMLL_BUS_GRNT_146   \n",
       "4  13TH JUDICIAL DISTRICT COURT                   2670551            05212021   \n",
       "\n",
       "  INVOICE DATE PAYMENT DATE  INVOICE AMOUNT  invoice_year  invoice_month  \\\n",
       "0   2020-11-03   2020-12-08           34.25          2020             11   \n",
       "1   2020-12-23   2021-01-06         7635.13          2020             12   \n",
       "2   2020-12-02   2020-12-04        10000.00          2020             12   \n",
       "3   2020-11-18   2020-11-19        10000.00          2020             11   \n",
       "4   2021-05-21   2021-05-21         6200.00          2021              5   \n",
       "\n",
       "   payment_year  payment_month  billed_duration  \n",
       "0          2020             12             35.0  \n",
       "1          2021              1             14.0  \n",
       "2          2020             12              2.0  \n",
       "3          2020             11              1.0  \n",
       "4          2021              5              0.0  "
      ]
     },
     "execution_count": 4,
     "metadata": {},
     "output_type": "execute_result"
    }
   ],
   "source": [
    "ckbk.head()"
   ]
  },
  {
   "cell_type": "markdown",
   "metadata": {},
   "source": [
    "Generate some descriptive statistics and create a Markdown block to discuss any trends evident. Note that Pandas will treat most of our date variables as well as invoice numbers and payment reference numbers as numeric data types unless we change them."
   ]
  },
  {
   "cell_type": "code",
   "execution_count": 7,
   "metadata": {},
   "outputs": [
    {
     "name": "stdout",
     "output_type": "stream",
     "text": [
      "Average invoice amount: 2494.4167575089245\n",
      "Average days between invoicing and payment: 26.2629970223608\n"
     ]
    }
   ],
   "source": [
    "ckbk = ckbk.astype({\"invoice_year\": \"object\", \"invoice_month\": \"object\", \n",
    "                    \"payment_year\": \"object\", \"payment_month\": \"object\",\n",
    "                   \"PAYMENT REFERENCE NUMBER\": \"object\", \"INVOICE NUMBER\": \"object\"})\n",
    "\n",
    "print(\"Average invoice amount:\", ckbk[\"INVOICE AMOUNT\"].mean())\n",
    "print(\"Average days between invoicing and payment:\", ckbk[\"billed_duration\"].mean())"
   ]
  },
  {
   "cell_type": "markdown",
   "metadata": {},
   "source": [
    "Using the example above, generate additional descriptive statistics (standard deviation, min, max, median) for the fields \"INVOICE AMOUNT\" and \"billed_duration.\" How much variation do we see in invoice amounts and the amount of time between invoicing and payment? \n",
    "\n",
    "1. Add a new code empty block below this one.\n",
    "1. Refer to the code in the block above to generate some statistics.\n",
    "1. Write up a brief interpetation of the stats."
   ]
  },
  {
   "cell_type": "markdown",
   "metadata": {},
   "source": [
    "Next we aggregate the data per year. Note that data for 2021 are only partial."
   ]
  },
  {
   "cell_type": "code",
   "execution_count": 8,
   "metadata": {},
   "outputs": [
    {
     "name": "stdout",
     "output_type": "stream",
     "text": [
      "2019 258238433.7\n",
      "2020 559475467.7099999\n",
      "2021 319904771.52000004\n"
     ]
    }
   ],
   "source": [
    "# Group the data by year\n",
    "# Quick comparison of spending\n",
    "\n",
    "by_year = ckbk.groupby(\"invoice_year\")\n",
    "yr_sums = pd.DataFrame(columns=[\"year\", \"count_invoices\", \"total_invoiced\"])\n",
    "for name, group in by_year:\n",
    "    print(name, group[\"INVOICE AMOUNT\"].sum())\n",
    "    ct_invoices = len(group)\n",
    "    total_invoices = group[\"INVOICE AMOUNT\"].sum()\n",
    "    yr_sums = yr_sums.append(pd.DataFrame([[name, ct_invoices, total_invoices]],\n",
    "                                          columns=[\"year\", \"count_invoices\", \"total_invoiced\"]))"
   ]
  },
  {
   "cell_type": "markdown",
   "metadata": {},
   "source": [
    "Now:\n",
    "\n",
    "1. Add a new, empty code block below to generate \n",
    "    1. A table showing the total invoices per year using the 'yr_sums' dataframe\n",
    "    1. A plot of the table\n",
    "1. After the code block, add a Markdown block to interpret the data"
   ]
  },
  {
   "cell_type": "code",
   "execution_count": 11,
   "metadata": {},
   "outputs": [],
   "source": [
    "# Group the data by vendor\n",
    "# do a bit of summarizing per vendor\n",
    "\n",
    "per_vendor = ckbk.groupby(\"NAME1\")\n",
    "cols = [\"vendor\", \"total_ct_invoices\", \n",
    "        \"sum_invoiced\", \"avg_invoice\", \"avg_billed_duration\"]\n",
    "pv = pd.DataFrame(columns=cols)\n",
    "for name, group in per_vendor:\n",
    "    ct_inv = len(group)\n",
    "    sum_inv = group[\"INVOICE AMOUNT\"].sum()\n",
    "    sum_ttp = group[\"billed_duration\"].sum()\n",
    "    avg_inv = round(sum_inv / ct_inv, 2)\n",
    "    avg_ttp = round(sum_ttp / ct_inv, 2)\n",
    "    pv = pv.append(pd.DataFrame([[name, ct_inv, sum_inv, avg_inv, avg_ttp]], \n",
    "                                columns=cols))\n",
    "    \n",
    "# We will also sort the new dataframe by amount invoiced per vendor\n",
    "# with the vendors receiving the most money at the top\n",
    "pv.sort_values(by=[\"sum_invoiced\"], inplace=True, ascending=False)"
   ]
  },
  {
   "cell_type": "markdown",
   "metadata": {},
   "source": [
    "Now:\n",
    "    \n",
    "1. Add a new, empty code block below to generate \n",
    "    1. A table showing the first five vendors in the 'pv' dataframe \n",
    "    1. A plot of the first five vendors in the 'pv' dataframe\n",
    "1. After the code block, add a Markdown block to interpret the data"
   ]
  },
  {
   "cell_type": "markdown",
   "metadata": {},
   "source": [
    "Looking at the data in both of our grouped dataframes, what other trends can we explore?\n",
    "\n",
    "On your own and using our code above as examples, sort and plot the data to highlight one of these trends. Create new code and Markdown blocks as needed to accomplish this."
   ]
  },
  {
   "cell_type": "markdown",
   "metadata": {},
   "source": [
    "## Discussion\n",
    "\n",
    "Add a few sentences to discuss the impact of the COVID-19 pandemic on city spending, as evidenced by the data.\n",
    "\n",
    "\n",
    "## Conclusion\n",
    "\n",
    "Summarize the research and additional research topics to explore that can further highlight the effect of the pandemic on city spending."
   ]
  },
  {
   "cell_type": "code",
   "execution_count": null,
   "metadata": {},
   "outputs": [],
   "source": []
  }
 ],
 "metadata": {
  "kernelspec": {
   "display_name": "Python 3",
   "language": "python",
   "name": "python3"
  },
  "language_info": {
   "codemirror_mode": {
    "name": "ipython",
    "version": 3
   },
   "file_extension": ".py",
   "mimetype": "text/x-python",
   "name": "python",
   "nbconvert_exporter": "python",
   "pygments_lexer": "ipython3",
   "version": "3.8.3"
  }
 },
 "nbformat": 4,
 "nbformat_minor": 4
}

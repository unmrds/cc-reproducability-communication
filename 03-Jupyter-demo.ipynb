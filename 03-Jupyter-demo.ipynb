{
 "cells": [
  {
   "cell_type": "markdown",
   "metadata": {},
   "source": [
    "% title: Jupyter Notebooks and Python\n",
    "% author: Jon Wheeler\n",
    "% date: 2022-03-03"
   ]
  },
  {
   "cell_type": "markdown",
   "metadata": {},
   "source": [
    "# Jupyter Notebooks & Python\n",
    "\n",
    "## Abstract\n",
    "\n",
    "Workshop tutorial with a hands-on demonstration of Markdown, Jupyter Notebooks (Python) and R Markdown (R). \n",
    "\n",
    "*keywords*: markdown, jupyter, python, literate computing"
   ]
  },
  {
   "cell_type": "markdown",
   "metadata": {},
   "source": [
    "## Jupyter Tips\n",
    "\n",
    "Unlike an R Markdown file, which has to be *knit* in order for Markdown to be rendered, in a Jupyter Notebook we only need to execute a cell of Markdown formatted text. \n",
    "\n",
    "When a new cell is created, by default it is a code block for executing Python, R, or any other supported language. The convert cells into Markdown cells, we can\n",
    "\n",
    "* type ```ESC + m``` OR\n",
    "* select **Cell->Cell Type->Markdown**.\n",
    "\n",
    "Once we have coverted the cell to Markdown, we can render it by running or executing the cell. Here again we have mouse/menu and keyboard options. Making sure the cell we want to execute is selected, we can\n",
    "\n",
    "* hit the **Run** button at the top of the screen OR\n",
    "* select **Cell->Run Cells** OR\n",
    "* type ```CTL + Enter``` to run the cell OR\n",
    "* type ```SHIFT + Enter``` to run the cell and create a new, empty cell.\n",
    "\n",
    "Double click a Markdown cell to edit it once it has been rendered. Alternatively, with the cell selected hit ```Enter```.\n",
    "\n",
    "Sometimes we may accidentally hit a keyboard combination that converts a code cell to a Markdown or raw text cell. When this happens, we can use a similar process as above to convert a cell to code:\n",
    "\n",
    "* type ```ESC + Y``` OR\n",
    "* select **Cell->Cell Type->Code**.\n",
    "\n",
    "Code cells are executed using the same commands or keyboard shortcuts as listed above for rendering Markdown."
   ]
  },
  {
   "cell_type": "markdown",
   "metadata": {},
   "source": [
    "First, let's demonstrate some Python, along with some things to be aware of when using interactive notebooks."
   ]
  },
  {
   "cell_type": "code",
   "execution_count": 3,
   "metadata": {},
   "outputs": [
    {
     "data": {
      "text/plain": [
       "969773729787523602876821942164080815560161"
      ]
     },
     "execution_count": 3,
     "metadata": {},
     "output_type": "execute_result"
    }
   ],
   "source": [
    "# Use comments to add text or descriptive info to a code cell.\n",
    "\n",
    "196 * 786527\n",
    "261876 / 19871987\n",
    "3**88"
   ]
  },
  {
   "cell_type": "code",
   "execution_count": 4,
   "metadata": {},
   "outputs": [
    {
     "name": "stdout",
     "output_type": "stream",
     "text": [
      "154159292\n",
      "0.013178148717589237\n",
      "969773729787523602876821942164080815560161\n"
     ]
    }
   ],
   "source": [
    "print(196 * 786527)\n",
    "print(261876 / 19871987)\n",
    "print(3**88)"
   ]
  },
  {
   "cell_type": "markdown",
   "metadata": {},
   "source": [
    "### Exercise\n",
    "\n",
    "Compare the output of the previous two cells. Why are they different? What is happening in the first cell?"
   ]
  },
  {
   "cell_type": "code",
   "execution_count": 12,
   "metadata": {},
   "outputs": [],
   "source": [
    "# Pay attention to scope, context, and changes to objects or variables.\n",
    "\n",
    "# Originally given the value of \"a string!\"\n",
    "my_var = 144"
   ]
  },
  {
   "cell_type": "code",
   "execution_count": 11,
   "metadata": {},
   "outputs": [
    {
     "name": "stdout",
     "output_type": "stream",
     "text": [
      "The value of my_var is: a string\n"
     ]
    }
   ],
   "source": [
    "# After initially declaring a string value for my_var\n",
    "# we can execute the following:\n",
    "\n",
    "print(\"The value of my_var is: \" + my_var)"
   ]
  },
  {
   "cell_type": "code",
   "execution_count": 14,
   "metadata": {},
   "outputs": [
    {
     "ename": "TypeError",
     "evalue": "can only concatenate str (not \"int\") to str",
     "output_type": "error",
     "traceback": [
      "\u001b[1;31m---------------------------------------------------------------------------\u001b[0m",
      "\u001b[1;31mTypeError\u001b[0m                                 Traceback (most recent call last)",
      "\u001b[1;32m<ipython-input-14-33fcef1f5e6a>\u001b[0m in \u001b[0;36m<module>\u001b[1;34m\u001b[0m\n\u001b[0;32m      2\u001b[0m \u001b[1;31m# there can be unanticipated results\u001b[0m\u001b[1;33m\u001b[0m\u001b[1;33m\u001b[0m\u001b[1;33m\u001b[0m\u001b[0m\n\u001b[0;32m      3\u001b[0m \u001b[1;33m\u001b[0m\u001b[0m\n\u001b[1;32m----> 4\u001b[1;33m \u001b[0mprint\u001b[0m\u001b[1;33m(\u001b[0m\u001b[1;34m\"The value of my_var is: \"\u001b[0m \u001b[1;33m+\u001b[0m \u001b[0mmy_var\u001b[0m\u001b[1;33m)\u001b[0m\u001b[1;33m\u001b[0m\u001b[1;33m\u001b[0m\u001b[0m\n\u001b[0m",
      "\u001b[1;31mTypeError\u001b[0m: can only concatenate str (not \"int\") to str"
     ]
    }
   ],
   "source": [
    "# If we go up and change the value of a variable or object\n",
    "# there can be unanticipated results\n",
    "\n",
    "print(\"The value of my_var is: \" + my_var)"
   ]
  },
  {
   "cell_type": "code",
   "execution_count": 16,
   "metadata": {},
   "outputs": [],
   "source": [
    "# Similarly, if we edit functions we need to re-execute the cell for\n",
    "# the changes to take effect\n",
    "\n",
    "# Let's start with a function that has a spelling error\n",
    "def hello_not(name):\n",
    "    print(\"Hello\", name)"
   ]
  },
  {
   "cell_type": "code",
   "execution_count": 17,
   "metadata": {},
   "outputs": [
    {
     "name": "stdout",
     "output_type": "stream",
     "text": [
      "Helo Jon\n"
     ]
    }
   ],
   "source": [
    "hello_not(\"Jon\")"
   ]
  },
  {
   "cell_type": "code",
   "execution_count": 18,
   "metadata": {},
   "outputs": [
    {
     "name": "stdout",
     "output_type": "stream",
     "text": [
      "Helo Jane\n"
     ]
    }
   ],
   "source": [
    "# We can fix the error, but if we forget to re-execute the cell\n",
    "# we will get the same result:\n",
    "\n",
    "hello_not(\"Jane\")"
   ]
  },
  {
   "cell_type": "markdown",
   "metadata": {},
   "source": [
    "### Exercise\n",
    "\n",
    "Veronica is developing a Jupyter Notebook to accompany her dissertation. She defines the following function and accidentally types a 3 instead of a 2 for the exponent:\n",
    "\n",
    "```\n",
    "def get_sq(n):\n",
    "    return n**3\n",
    "```\n",
    "\n",
    "After executing the cell with the function definition, Veronica discovers her error and corrects it without re-executing the cell. What will be the output of the following:\n",
    "\n",
    "```\n",
    "print(get_sq(3))\n",
    "```"
   ]
  },
  {
   "cell_type": "markdown",
   "metadata": {},
   "source": [
    "## Working with Data\n",
    "\n",
    "For this demo we will be using data from Albuquerque's open data portal. The dataset is the *City Checkbook*, which includes a list of invoices paid to vendors:\n",
    "\n",
    "> City of Albuquerque, Accounts Payable Section, Accounting Division of the Department of Financial and Administrative > Services (2021). _City Checkbook_ <http://data.cabq.gov/government/vendorcheckbook/VendorCheckBookCABQ-en-us.csv>\n"
   ]
  },
  {
   "cell_type": "code",
   "execution_count": 20,
   "metadata": {},
   "outputs": [],
   "source": [
    "# Import libraries - this will work if Anaconda is installed\n",
    "# If using some other Python distribution, it may be necessary\n",
    "# to install some of these libraries.\n",
    "\n",
    "import pandas as pd\n",
    "import numpy as np\n",
    "import matplotlib.pyplot as plt"
   ]
  },
  {
   "cell_type": "code",
   "execution_count": 21,
   "metadata": {},
   "outputs": [],
   "source": [
    "# Read the city checkbook data\n",
    "ckbk = pd.read_csv(\"./data/abq_vendor_data_2019-2021.csv\")"
   ]
  },
  {
   "cell_type": "markdown",
   "metadata": {},
   "source": [
    "Note that Jupyter provides a nicely formatted output for tables."
   ]
  },
  {
   "cell_type": "code",
   "execution_count": 24,
   "metadata": {},
   "outputs": [
    {
     "data": {
      "text/html": [
       "<div>\n",
       "<style scoped>\n",
       "    .dataframe tbody tr th:only-of-type {\n",
       "        vertical-align: middle;\n",
       "    }\n",
       "\n",
       "    .dataframe tbody tr th {\n",
       "        vertical-align: top;\n",
       "    }\n",
       "\n",
       "    .dataframe thead th {\n",
       "        text-align: right;\n",
       "    }\n",
       "</style>\n",
       "<table border=\"1\" class=\"dataframe\">\n",
       "  <thead>\n",
       "    <tr style=\"text-align: right;\">\n",
       "      <th></th>\n",
       "      <th>NAME1</th>\n",
       "      <th>PAYMENT REFERENCE NUMBER</th>\n",
       "      <th>INVOICE NUMBER</th>\n",
       "      <th>INVOICE DATE</th>\n",
       "      <th>PAYMENT DATE</th>\n",
       "      <th>INVOICE AMOUNT</th>\n",
       "      <th>invoice_year</th>\n",
       "      <th>invoice_month</th>\n",
       "      <th>payment_year</th>\n",
       "      <th>payment_month</th>\n",
       "      <th>billed_duration</th>\n",
       "    </tr>\n",
       "  </thead>\n",
       "  <tbody>\n",
       "    <tr>\n",
       "      <th>0</th>\n",
       "      <td>1 ST HEALTH INC</td>\n",
       "      <td>9411323</td>\n",
       "      <td>NMSM4976-110320FMV</td>\n",
       "      <td>2020-11-03</td>\n",
       "      <td>2020-12-08</td>\n",
       "      <td>34.25</td>\n",
       "      <td>2020</td>\n",
       "      <td>11</td>\n",
       "      <td>2020</td>\n",
       "      <td>12</td>\n",
       "      <td>35.0</td>\n",
       "    </tr>\n",
       "    <tr>\n",
       "      <th>1</th>\n",
       "      <td>10 TANKER AIR CARRIER</td>\n",
       "      <td>9414239</td>\n",
       "      <td>TCA122320</td>\n",
       "      <td>2020-12-23</td>\n",
       "      <td>2021-01-06</td>\n",
       "      <td>7635.13</td>\n",
       "      <td>2020</td>\n",
       "      <td>12</td>\n",
       "      <td>2021</td>\n",
       "      <td>1</td>\n",
       "      <td>14.0</td>\n",
       "    </tr>\n",
       "    <tr>\n",
       "      <th>2</th>\n",
       "      <td>101 PROPERTY, LLC</td>\n",
       "      <td>2668912</td>\n",
       "      <td>SMLL_BUS_GRNT_236</td>\n",
       "      <td>2020-12-02</td>\n",
       "      <td>2020-12-04</td>\n",
       "      <td>10000.00</td>\n",
       "      <td>2020</td>\n",
       "      <td>12</td>\n",
       "      <td>2020</td>\n",
       "      <td>12</td>\n",
       "      <td>2.0</td>\n",
       "    </tr>\n",
       "    <tr>\n",
       "      <th>3</th>\n",
       "      <td>110 SUNPORT LLC DBA HOLIDAY</td>\n",
       "      <td>2668724</td>\n",
       "      <td>SMLL_BUS_GRNT_146</td>\n",
       "      <td>2020-11-18</td>\n",
       "      <td>2020-11-19</td>\n",
       "      <td>10000.00</td>\n",
       "      <td>2020</td>\n",
       "      <td>11</td>\n",
       "      <td>2020</td>\n",
       "      <td>11</td>\n",
       "      <td>1.0</td>\n",
       "    </tr>\n",
       "    <tr>\n",
       "      <th>4</th>\n",
       "      <td>13TH JUDICIAL DISTRICT COURT</td>\n",
       "      <td>2670551</td>\n",
       "      <td>05212021</td>\n",
       "      <td>2021-05-21</td>\n",
       "      <td>2021-05-21</td>\n",
       "      <td>6200.00</td>\n",
       "      <td>2021</td>\n",
       "      <td>5</td>\n",
       "      <td>2021</td>\n",
       "      <td>5</td>\n",
       "      <td>0.0</td>\n",
       "    </tr>\n",
       "  </tbody>\n",
       "</table>\n",
       "</div>"
      ],
      "text/plain": [
       "                          NAME1  PAYMENT REFERENCE NUMBER      INVOICE NUMBER  \\\n",
       "0               1 ST HEALTH INC                   9411323  NMSM4976-110320FMV   \n",
       "1         10 TANKER AIR CARRIER                   9414239           TCA122320   \n",
       "2             101 PROPERTY, LLC                   2668912   SMLL_BUS_GRNT_236   \n",
       "3   110 SUNPORT LLC DBA HOLIDAY                   2668724   SMLL_BUS_GRNT_146   \n",
       "4  13TH JUDICIAL DISTRICT COURT                   2670551            05212021   \n",
       "\n",
       "  INVOICE DATE PAYMENT DATE  INVOICE AMOUNT  invoice_year  invoice_month  \\\n",
       "0   2020-11-03   2020-12-08           34.25          2020             11   \n",
       "1   2020-12-23   2021-01-06         7635.13          2020             12   \n",
       "2   2020-12-02   2020-12-04        10000.00          2020             12   \n",
       "3   2020-11-18   2020-11-19        10000.00          2020             11   \n",
       "4   2021-05-21   2021-05-21         6200.00          2021              5   \n",
       "\n",
       "   payment_year  payment_month  billed_duration  \n",
       "0          2020             12             35.0  \n",
       "1          2021              1             14.0  \n",
       "2          2020             12              2.0  \n",
       "3          2020             11              1.0  \n",
       "4          2021              5              0.0  "
      ]
     },
     "execution_count": 24,
     "metadata": {},
     "output_type": "execute_result"
    }
   ],
   "source": [
    "ckbk.head()"
   ]
  },
  {
   "cell_type": "code",
   "execution_count": 47,
   "metadata": {},
   "outputs": [
    {
     "data": {
      "text/html": [
       "<div>\n",
       "<style scoped>\n",
       "    .dataframe tbody tr th:only-of-type {\n",
       "        vertical-align: middle;\n",
       "    }\n",
       "\n",
       "    .dataframe tbody tr th {\n",
       "        vertical-align: top;\n",
       "    }\n",
       "\n",
       "    .dataframe thead th {\n",
       "        text-align: right;\n",
       "    }\n",
       "</style>\n",
       "<table border=\"1\" class=\"dataframe\">\n",
       "  <thead>\n",
       "    <tr style=\"text-align: right;\">\n",
       "      <th></th>\n",
       "      <th>PAYMENT REFERENCE NUMBER</th>\n",
       "      <th>INVOICE AMOUNT</th>\n",
       "      <th>invoice_year</th>\n",
       "      <th>invoice_month</th>\n",
       "      <th>payment_year</th>\n",
       "      <th>payment_month</th>\n",
       "      <th>billed_duration</th>\n",
       "    </tr>\n",
       "  </thead>\n",
       "  <tbody>\n",
       "    <tr>\n",
       "      <th>count</th>\n",
       "      <td>4.560660e+05</td>\n",
       "      <td>4.560660e+05</td>\n",
       "      <td>456066.000000</td>\n",
       "      <td>456066.000000</td>\n",
       "      <td>456066.000000</td>\n",
       "      <td>456066.000000</td>\n",
       "      <td>456066.000000</td>\n",
       "    </tr>\n",
       "    <tr>\n",
       "      <th>mean</th>\n",
       "      <td>9.152507e+06</td>\n",
       "      <td>2.494417e+03</td>\n",
       "      <td>2019.978418</td>\n",
       "      <td>6.539678</td>\n",
       "      <td>2020.052723</td>\n",
       "      <td>6.538135</td>\n",
       "      <td>26.262997</td>\n",
       "    </tr>\n",
       "    <tr>\n",
       "      <th>std</th>\n",
       "      <td>9.025691e+05</td>\n",
       "      <td>3.873999e+04</td>\n",
       "      <td>0.717031</td>\n",
       "      <td>3.442338</td>\n",
       "      <td>0.709791</td>\n",
       "      <td>3.447475</td>\n",
       "      <td>39.963799</td>\n",
       "    </tr>\n",
       "    <tr>\n",
       "      <th>min</th>\n",
       "      <td>2.664738e+06</td>\n",
       "      <td>-2.046121e+05</td>\n",
       "      <td>2019.000000</td>\n",
       "      <td>1.000000</td>\n",
       "      <td>2019.000000</td>\n",
       "      <td>1.000000</td>\n",
       "      <td>-259.000000</td>\n",
       "    </tr>\n",
       "    <tr>\n",
       "      <th>25%</th>\n",
       "      <td>9.371866e+06</td>\n",
       "      <td>2.398000e+01</td>\n",
       "      <td>2019.000000</td>\n",
       "      <td>4.000000</td>\n",
       "      <td>2020.000000</td>\n",
       "      <td>3.000000</td>\n",
       "      <td>7.000000</td>\n",
       "    </tr>\n",
       "    <tr>\n",
       "      <th>50%</th>\n",
       "      <td>9.392250e+06</td>\n",
       "      <td>1.065950e+02</td>\n",
       "      <td>2020.000000</td>\n",
       "      <td>7.000000</td>\n",
       "      <td>2020.000000</td>\n",
       "      <td>7.000000</td>\n",
       "      <td>15.000000</td>\n",
       "    </tr>\n",
       "    <tr>\n",
       "      <th>75%</th>\n",
       "      <td>9.414689e+06</td>\n",
       "      <td>4.611975e+02</td>\n",
       "      <td>2020.000000</td>\n",
       "      <td>10.000000</td>\n",
       "      <td>2021.000000</td>\n",
       "      <td>10.000000</td>\n",
       "      <td>30.000000</td>\n",
       "    </tr>\n",
       "    <tr>\n",
       "      <th>max</th>\n",
       "      <td>9.443825e+06</td>\n",
       "      <td>9.081197e+06</td>\n",
       "      <td>2021.000000</td>\n",
       "      <td>12.000000</td>\n",
       "      <td>2021.000000</td>\n",
       "      <td>12.000000</td>\n",
       "      <td>795.000000</td>\n",
       "    </tr>\n",
       "  </tbody>\n",
       "</table>\n",
       "</div>"
      ],
      "text/plain": [
       "       PAYMENT REFERENCE NUMBER  INVOICE AMOUNT   invoice_year  invoice_month  \\\n",
       "count              4.560660e+05    4.560660e+05  456066.000000  456066.000000   \n",
       "mean               9.152507e+06    2.494417e+03    2019.978418       6.539678   \n",
       "std                9.025691e+05    3.873999e+04       0.717031       3.442338   \n",
       "min                2.664738e+06   -2.046121e+05    2019.000000       1.000000   \n",
       "25%                9.371866e+06    2.398000e+01    2019.000000       4.000000   \n",
       "50%                9.392250e+06    1.065950e+02    2020.000000       7.000000   \n",
       "75%                9.414689e+06    4.611975e+02    2020.000000      10.000000   \n",
       "max                9.443825e+06    9.081197e+06    2021.000000      12.000000   \n",
       "\n",
       "        payment_year  payment_month  billed_duration  \n",
       "count  456066.000000  456066.000000    456066.000000  \n",
       "mean     2020.052723       6.538135        26.262997  \n",
       "std         0.709791       3.447475        39.963799  \n",
       "min      2019.000000       1.000000      -259.000000  \n",
       "25%      2020.000000       3.000000         7.000000  \n",
       "50%      2020.000000       7.000000        15.000000  \n",
       "75%      2021.000000      10.000000        30.000000  \n",
       "max      2021.000000      12.000000       795.000000  "
      ]
     },
     "execution_count": 47,
     "metadata": {},
     "output_type": "execute_result"
    }
   ],
   "source": [
    "ckbk.describe()"
   ]
  },
  {
   "cell_type": "code",
   "execution_count": 44,
   "metadata": {},
   "outputs": [
    {
     "data": {
      "text/plain": [
       "<matplotlib.axes._subplots.AxesSubplot at 0x1b616338ee0>"
      ]
     },
     "execution_count": 44,
     "metadata": {},
     "output_type": "execute_result"
    },
    {
     "data": {
      "image/png": "[encoded data removed]",
      "text/plain": [
       "<Figure size 432x288 with 1 Axes>"
      ]
     },
     "metadata": {
      "needs_background": "light"
     },
     "output_type": "display_data"
    }
   ],
   "source": [
    "# Plot the amount of an invoice\n",
    "# by the interval between billing and payment\n",
    "\n",
    "ckbk.plot(x = \"billed_duration\", y = \"INVOICE AMOUNT\")"
   ]
  },
  {
   "cell_type": "code",
   "execution_count": 45,
   "metadata": {},
   "outputs": [],
   "source": [
    "# compare vendors\n",
    "\n",
    "per_vendor = ckbk.groupby(\"NAME1\")\n",
    "cols = [\"vendor\", \"total_ct_invoices\", \n",
    "        \"sum_invoiced\", \"avg_invoice\", \"avg_billed_duration\"]\n",
    "pv = pd.DataFrame(columns=cols)\n",
    "for name, group in per_vendor:\n",
    "    ct_inv = len(group)\n",
    "    sum_inv = group[\"INVOICE AMOUNT\"].sum()\n",
    "    sum_ttp = group[\"billed_duration\"].sum()\n",
    "    avg_inv = round(sum_inv / ct_inv, 2)\n",
    "    avg_ttp = round(sum_ttp / ct_inv, 2)\n",
    "    pv = pv.append(pd.DataFrame([[name, ct_inv, sum_inv, avg_inv, avg_ttp]], \n",
    "                                columns=cols))"
   ]
  },
  {
   "cell_type": "code",
   "execution_count": 38,
   "metadata": {},
   "outputs": [
    {
     "data": {
      "text/html": [
       "<div>\n",
       "<style scoped>\n",
       "    .dataframe tbody tr th:only-of-type {\n",
       "        vertical-align: middle;\n",
       "    }\n",
       "\n",
       "    .dataframe tbody tr th {\n",
       "        vertical-align: top;\n",
       "    }\n",
       "\n",
       "    .dataframe thead th {\n",
       "        text-align: right;\n",
       "    }\n",
       "</style>\n",
       "<table border=\"1\" class=\"dataframe\">\n",
       "  <thead>\n",
       "    <tr style=\"text-align: right;\">\n",
       "      <th></th>\n",
       "      <th>vendor</th>\n",
       "      <th>total_ct_invoices</th>\n",
       "      <th>sum_invoiced</th>\n",
       "      <th>avg_invoice</th>\n",
       "      <th>avg_billed_duration</th>\n",
       "    </tr>\n",
       "  </thead>\n",
       "  <tbody>\n",
       "    <tr>\n",
       "      <th>0</th>\n",
       "      <td>PRESBYTERIAN INSURANCE COMPANY INC</td>\n",
       "      <td>127</td>\n",
       "      <td>1.202120e+08</td>\n",
       "      <td>946551.39</td>\n",
       "      <td>19.54</td>\n",
       "    </tr>\n",
       "    <tr>\n",
       "      <th>0</th>\n",
       "      <td>BRADBURY STAMM CONSTRUCTION INC</td>\n",
       "      <td>97</td>\n",
       "      <td>3.282649e+07</td>\n",
       "      <td>338417.39</td>\n",
       "      <td>30.96</td>\n",
       "    </tr>\n",
       "    <tr>\n",
       "      <th>0</th>\n",
       "      <td>EXPRESS SCRIPTS, INC</td>\n",
       "      <td>129</td>\n",
       "      <td>2.781798e+07</td>\n",
       "      <td>215643.23</td>\n",
       "      <td>10.38</td>\n",
       "    </tr>\n",
       "    <tr>\n",
       "      <th>0</th>\n",
       "      <td>PUBLIC SERVICE COMPANY OF NEW MEXICO</td>\n",
       "      <td>23561</td>\n",
       "      <td>2.450028e+07</td>\n",
       "      <td>1039.87</td>\n",
       "      <td>13.02</td>\n",
       "    </tr>\n",
       "    <tr>\n",
       "      <th>0</th>\n",
       "      <td>ALBUQUERQUE BERNALILLO COUNTY</td>\n",
       "      <td>17337</td>\n",
       "      <td>2.010128e+07</td>\n",
       "      <td>1159.44</td>\n",
       "      <td>11.30</td>\n",
       "    </tr>\n",
       "  </tbody>\n",
       "</table>\n",
       "</div>"
      ],
      "text/plain": [
       "                                 vendor total_ct_invoices  sum_invoiced  \\\n",
       "0    PRESBYTERIAN INSURANCE COMPANY INC               127  1.202120e+08   \n",
       "0       BRADBURY STAMM CONSTRUCTION INC                97  3.282649e+07   \n",
       "0                  EXPRESS SCRIPTS, INC               129  2.781798e+07   \n",
       "0  PUBLIC SERVICE COMPANY OF NEW MEXICO             23561  2.450028e+07   \n",
       "0         ALBUQUERQUE BERNALILLO COUNTY             17337  2.010128e+07   \n",
       "\n",
       "   avg_invoice  avg_billed_duration  \n",
       "0    946551.39                19.54  \n",
       "0    338417.39                30.96  \n",
       "0    215643.23                10.38  \n",
       "0      1039.87                13.02  \n",
       "0      1159.44                11.30  "
      ]
     },
     "execution_count": 38,
     "metadata": {},
     "output_type": "execute_result"
    }
   ],
   "source": [
    "pv.sort_values(by=[\"sum_invoiced\"], inplace=True, ascending=False)\n",
    "pv.head()"
   ]
  },
  {
   "cell_type": "code",
   "execution_count": 39,
   "metadata": {},
   "outputs": [
    {
     "data": {
      "text/html": [
       "<div>\n",
       "<style scoped>\n",
       "    .dataframe tbody tr th:only-of-type {\n",
       "        vertical-align: middle;\n",
       "    }\n",
       "\n",
       "    .dataframe tbody tr th {\n",
       "        vertical-align: top;\n",
       "    }\n",
       "\n",
       "    .dataframe thead th {\n",
       "        text-align: right;\n",
       "    }\n",
       "</style>\n",
       "<table border=\"1\" class=\"dataframe\">\n",
       "  <thead>\n",
       "    <tr style=\"text-align: right;\">\n",
       "      <th></th>\n",
       "      <th>vendor</th>\n",
       "      <th>total_ct_invoices</th>\n",
       "      <th>sum_invoiced</th>\n",
       "      <th>avg_invoice</th>\n",
       "      <th>avg_billed_duration</th>\n",
       "    </tr>\n",
       "  </thead>\n",
       "  <tbody>\n",
       "    <tr>\n",
       "      <th>0</th>\n",
       "      <td>RIVENROCK STAFFING LLC</td>\n",
       "      <td>30301</td>\n",
       "      <td>15071993.55</td>\n",
       "      <td>497.41</td>\n",
       "      <td>16.71</td>\n",
       "    </tr>\n",
       "    <tr>\n",
       "      <th>0</th>\n",
       "      <td>CINTAS CORPORATION NO 2</td>\n",
       "      <td>25847</td>\n",
       "      <td>405539.79</td>\n",
       "      <td>15.69</td>\n",
       "      <td>25.21</td>\n",
       "    </tr>\n",
       "    <tr>\n",
       "      <th>0</th>\n",
       "      <td>PUBLIC SERVICE COMPANY OF NEW MEXICO</td>\n",
       "      <td>23561</td>\n",
       "      <td>24500275.87</td>\n",
       "      <td>1039.87</td>\n",
       "      <td>13.02</td>\n",
       "    </tr>\n",
       "    <tr>\n",
       "      <th>0</th>\n",
       "      <td>STRIDE INC</td>\n",
       "      <td>23083</td>\n",
       "      <td>1988878.00</td>\n",
       "      <td>86.16</td>\n",
       "      <td>13.24</td>\n",
       "    </tr>\n",
       "    <tr>\n",
       "      <th>0</th>\n",
       "      <td>ALBUQUERQUE BERNALILLO COUNTY</td>\n",
       "      <td>17337</td>\n",
       "      <td>20101278.60</td>\n",
       "      <td>1159.44</td>\n",
       "      <td>11.30</td>\n",
       "    </tr>\n",
       "  </tbody>\n",
       "</table>\n",
       "</div>"
      ],
      "text/plain": [
       "                                 vendor total_ct_invoices  sum_invoiced  \\\n",
       "0                RIVENROCK STAFFING LLC             30301   15071993.55   \n",
       "0               CINTAS CORPORATION NO 2             25847     405539.79   \n",
       "0  PUBLIC SERVICE COMPANY OF NEW MEXICO             23561   24500275.87   \n",
       "0                            STRIDE INC             23083    1988878.00   \n",
       "0         ALBUQUERQUE BERNALILLO COUNTY             17337   20101278.60   \n",
       "\n",
       "   avg_invoice  avg_billed_duration  \n",
       "0       497.41                16.71  \n",
       "0        15.69                25.21  \n",
       "0      1039.87                13.02  \n",
       "0        86.16                13.24  \n",
       "0      1159.44                11.30  "
      ]
     },
     "execution_count": 39,
     "metadata": {},
     "output_type": "execute_result"
    }
   ],
   "source": [
    "pv.sort_values(by=[\"total_ct_invoices\"], inplace=True, ascending=False)\n",
    "pv.head()"
   ]
  },
  {
   "cell_type": "code",
   "execution_count": 46,
   "metadata": {},
   "outputs": [
    {
     "data": {
      "text/html": [
       "<div>\n",
       "<style scoped>\n",
       "    .dataframe tbody tr th:only-of-type {\n",
       "        vertical-align: middle;\n",
       "    }\n",
       "\n",
       "    .dataframe tbody tr th {\n",
       "        vertical-align: top;\n",
       "    }\n",
       "\n",
       "    .dataframe thead th {\n",
       "        text-align: right;\n",
       "    }\n",
       "</style>\n",
       "<table border=\"1\" class=\"dataframe\">\n",
       "  <thead>\n",
       "    <tr style=\"text-align: right;\">\n",
       "      <th></th>\n",
       "      <th>PAYMENT REFERENCE NUMBER</th>\n",
       "      <th>INVOICE AMOUNT</th>\n",
       "      <th>invoice_year</th>\n",
       "      <th>invoice_month</th>\n",
       "      <th>payment_year</th>\n",
       "      <th>payment_month</th>\n",
       "      <th>billed_duration</th>\n",
       "    </tr>\n",
       "  </thead>\n",
       "  <tbody>\n",
       "    <tr>\n",
       "      <th>count</th>\n",
       "      <td>4.560660e+05</td>\n",
       "      <td>4.560660e+05</td>\n",
       "      <td>456066.000000</td>\n",
       "      <td>456066.000000</td>\n",
       "      <td>456066.000000</td>\n",
       "      <td>456066.000000</td>\n",
       "      <td>456066.000000</td>\n",
       "    </tr>\n",
       "    <tr>\n",
       "      <th>mean</th>\n",
       "      <td>9.152507e+06</td>\n",
       "      <td>2.494417e+03</td>\n",
       "      <td>2019.978418</td>\n",
       "      <td>6.539678</td>\n",
       "      <td>2020.052723</td>\n",
       "      <td>6.538135</td>\n",
       "      <td>26.262997</td>\n",
       "    </tr>\n",
       "    <tr>\n",
       "      <th>std</th>\n",
       "      <td>9.025691e+05</td>\n",
       "      <td>3.873999e+04</td>\n",
       "      <td>0.717031</td>\n",
       "      <td>3.442338</td>\n",
       "      <td>0.709791</td>\n",
       "      <td>3.447475</td>\n",
       "      <td>39.963799</td>\n",
       "    </tr>\n",
       "    <tr>\n",
       "      <th>min</th>\n",
       "      <td>2.664738e+06</td>\n",
       "      <td>-2.046121e+05</td>\n",
       "      <td>2019.000000</td>\n",
       "      <td>1.000000</td>\n",
       "      <td>2019.000000</td>\n",
       "      <td>1.000000</td>\n",
       "      <td>-259.000000</td>\n",
       "    </tr>\n",
       "    <tr>\n",
       "      <th>25%</th>\n",
       "      <td>9.371866e+06</td>\n",
       "      <td>2.398000e+01</td>\n",
       "      <td>2019.000000</td>\n",
       "      <td>4.000000</td>\n",
       "      <td>2020.000000</td>\n",
       "      <td>3.000000</td>\n",
       "      <td>7.000000</td>\n",
       "    </tr>\n",
       "    <tr>\n",
       "      <th>50%</th>\n",
       "      <td>9.392250e+06</td>\n",
       "      <td>1.065950e+02</td>\n",
       "      <td>2020.000000</td>\n",
       "      <td>7.000000</td>\n",
       "      <td>2020.000000</td>\n",
       "      <td>7.000000</td>\n",
       "      <td>15.000000</td>\n",
       "    </tr>\n",
       "    <tr>\n",
       "      <th>75%</th>\n",
       "      <td>9.414689e+06</td>\n",
       "      <td>4.611975e+02</td>\n",
       "      <td>2020.000000</td>\n",
       "      <td>10.000000</td>\n",
       "      <td>2021.000000</td>\n",
       "      <td>10.000000</td>\n",
       "      <td>30.000000</td>\n",
       "    </tr>\n",
       "    <tr>\n",
       "      <th>max</th>\n",
       "      <td>9.443825e+06</td>\n",
       "      <td>9.081197e+06</td>\n",
       "      <td>2021.000000</td>\n",
       "      <td>12.000000</td>\n",
       "      <td>2021.000000</td>\n",
       "      <td>12.000000</td>\n",
       "      <td>795.000000</td>\n",
       "    </tr>\n",
       "  </tbody>\n",
       "</table>\n",
       "</div>"
      ],
      "text/plain": [
       "       PAYMENT REFERENCE NUMBER  INVOICE AMOUNT   invoice_year  invoice_month  \\\n",
       "count              4.560660e+05    4.560660e+05  456066.000000  456066.000000   \n",
       "mean               9.152507e+06    2.494417e+03    2019.978418       6.539678   \n",
       "std                9.025691e+05    3.873999e+04       0.717031       3.442338   \n",
       "min                2.664738e+06   -2.046121e+05    2019.000000       1.000000   \n",
       "25%                9.371866e+06    2.398000e+01    2019.000000       4.000000   \n",
       "50%                9.392250e+06    1.065950e+02    2020.000000       7.000000   \n",
       "75%                9.414689e+06    4.611975e+02    2020.000000      10.000000   \n",
       "max                9.443825e+06    9.081197e+06    2021.000000      12.000000   \n",
       "\n",
       "        payment_year  payment_month  billed_duration  \n",
       "count  456066.000000  456066.000000    456066.000000  \n",
       "mean     2020.052723       6.538135        26.262997  \n",
       "std         0.709791       3.447475        39.963799  \n",
       "min      2019.000000       1.000000      -259.000000  \n",
       "25%      2020.000000       3.000000         7.000000  \n",
       "50%      2020.000000       7.000000        15.000000  \n",
       "75%      2021.000000      10.000000        30.000000  \n",
       "max      2021.000000      12.000000       795.000000  "
      ]
     },
     "execution_count": 46,
     "metadata": {},
     "output_type": "execute_result"
    }
   ],
   "source": [
    "ckbk.describe()"
   ]
  },
  {
   "cell_type": "code",
   "execution_count": null,
   "metadata": {},
   "outputs": [],
   "source": []
  }
 ],
 "metadata": {
  "kernelspec": {
   "display_name": "Python 3",
   "language": "python",
   "name": "python3"
  },
  "language_info": {
   "codemirror_mode": {
    "name": "ipython",
    "version": 3
   },
   "file_extension": ".py",
   "mimetype": "text/x-python",
   "name": "python",
   "nbconvert_exporter": "python",
   "pygments_lexer": "ipython3",
   "version": "3.8.3"
  }
 },
 "nbformat": 4,
 "nbformat_minor": 4
}

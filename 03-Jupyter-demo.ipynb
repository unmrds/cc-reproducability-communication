{
 "cells": [
  {
   "cell_type": "markdown",
   "metadata": {},
   "source": [
    "% title: Jupyter Notebooks and Python\n",
    "% author: Jon Wheeler\n",
    "% date: 2022-03-03"
   ]
  },
  {
   "cell_type": "markdown",
   "metadata": {},
   "source": [
    "# Jupyter Notebooks & Python\n",
    "\n",
    "## Abstract\n",
    "\n",
    "Workshop tutorial with a hands-on demonstration of Markdown, Jupyter Notebooks (Python) and R Markdown (R). \n",
    "\n",
    "*keywords*: markdown, jupyter, python, literate computing"
   ]
  },
  {
   "cell_type": "markdown",
   "metadata": {},
   "source": [
    "## Jupyter Tips\n",
    "\n",
    "Unlike an R Markdown file, which has to be *knit* in order for Markdown to be rendered, in a Jupyter Notebook we only need to execute a cell of Markdown formatted text. \n",
    "\n",
    "When a new cell is created, by default it is a code block for executing Python, R, or any other supported language. The convert cells into Markdown cells, we can\n",
    "\n",
    "* type ```ESC + m``` OR\n",
    "* select **Cell->Cell Type->Markdown**.\n",
    "\n",
    "Once we have coverted the cell to Markdown, we can render it by running or executing the cell. Here again we have mouse/menu and keyboard options. Making sure the cell we want to execute is selected, we can\n",
    "\n",
    "* hit the **Run** button at the top of the screen OR\n",
    "* select **Cell->Run Cells** OR\n",
    "* type ```CTL + Enter``` to run the cell OR\n",
    "* type ```SHIFT + Enter``` to run the cell and create a new, empty cell.\n",
    "\n",
    "Double click a Markdown cell to edit it once it has been rendered. Alternatively, with the cell selected hit ```Enter```.\n",
    "\n",
    "Sometimes we may accidentally hit a keyboard combination that converts a code cell to a Markdown or raw text cell. When this happens, we can use a similar process as above to convert a cell to code:\n",
    "\n",
    "* type ```ESC + Y``` OR\n",
    "* select **Cell->Cell Type->Code**.\n",
    "\n",
    "Code cells are executed using the same commands or keyboard shortcuts as listed above for rendering Markdown."
   ]
  },
  {
   "cell_type": "markdown",
   "metadata": {},
   "source": [
    "## Working with Data\n",
    "\n",
    "For this demo we will be using data from Albuquerque's open data portal. The dataset is the *City Checkbook*, which includes a list of invoices paid to vendors:\n",
    "\n",
    "> City of Albuquerque, Accounts Payable Section, Accounting Division of the Department of Financial and Administrative > Services (2021). _City Checkbook_ <http://data.cabq.gov/government/vendorcheckbook/VendorCheckBookCABQ-en-us.csv>\n",
    "\n",
    "First, let's demonstrate some Python, along with some things to be aware of when using interactive notebooks."
   ]
  },
  {
   "cell_type": "code",
   "execution_count": 3,
   "metadata": {},
   "outputs": [
    {
     "data": {
      "text/plain": [
       "969773729787523602876821942164080815560161"
      ]
     },
     "execution_count": 3,
     "metadata": {},
     "output_type": "execute_result"
    }
   ],
   "source": [
    "# Use comments to add text or descriptive info to a code cell.\n",
    "\n",
    "196 * 786527\n",
    "261876 / 19871987\n",
    "3**88"
   ]
  },
  {
   "cell_type": "code",
   "execution_count": 4,
   "metadata": {},
   "outputs": [
    {
     "name": "stdout",
     "output_type": "stream",
     "text": [
      "154159292\n",
      "0.013178148717589237\n",
      "969773729787523602876821942164080815560161\n"
     ]
    }
   ],
   "source": [
    "print(196 * 786527)\n",
    "print(261876 / 19871987)\n",
    "print(3**88)"
   ]
  },
  {
   "cell_type": "markdown",
   "metadata": {},
   "source": [
    "### Exercise\n",
    "\n",
    "Compare the output of the previous two cells. Why are they different? What is happening in the first cell?"
   ]
  },
  {
   "cell_type": "code",
   "execution_count": 12,
   "metadata": {},
   "outputs": [],
   "source": [
    "# Pay attention to scope, context, and changes to objects or variables.\n",
    "\n",
    "# Originally given the value of \"a string!\"\n",
    "my_var = 144"
   ]
  },
  {
   "cell_type": "code",
   "execution_count": 11,
   "metadata": {},
   "outputs": [
    {
     "name": "stdout",
     "output_type": "stream",
     "text": [
      "The value of my_var is: a string\n"
     ]
    }
   ],
   "source": [
    "# After initially declaring a string value for my_var\n",
    "# we can execute the following:\n",
    "\n",
    "print(\"The value of my_var is: \" + my_var)"
   ]
  },
  {
   "cell_type": "code",
   "execution_count": 14,
   "metadata": {},
   "outputs": [
    {
     "ename": "TypeError",
     "evalue": "can only concatenate str (not \"int\") to str",
     "output_type": "error",
     "traceback": [
      "\u001b[1;31m---------------------------------------------------------------------------\u001b[0m",
      "\u001b[1;31mTypeError\u001b[0m                                 Traceback (most recent call last)",
      "\u001b[1;32m<ipython-input-14-33fcef1f5e6a>\u001b[0m in \u001b[0;36m<module>\u001b[1;34m\u001b[0m\n\u001b[0;32m      2\u001b[0m \u001b[1;31m# there can be unanticipated results\u001b[0m\u001b[1;33m\u001b[0m\u001b[1;33m\u001b[0m\u001b[1;33m\u001b[0m\u001b[0m\n\u001b[0;32m      3\u001b[0m \u001b[1;33m\u001b[0m\u001b[0m\n\u001b[1;32m----> 4\u001b[1;33m \u001b[0mprint\u001b[0m\u001b[1;33m(\u001b[0m\u001b[1;34m\"The value of my_var is: \"\u001b[0m \u001b[1;33m+\u001b[0m \u001b[0mmy_var\u001b[0m\u001b[1;33m)\u001b[0m\u001b[1;33m\u001b[0m\u001b[1;33m\u001b[0m\u001b[0m\n\u001b[0m",
      "\u001b[1;31mTypeError\u001b[0m: can only concatenate str (not \"int\") to str"
     ]
    }
   ],
   "source": [
    "# If we go up and change the value of a variable or object\n",
    "# there can be unanticipated results\n",
    "\n",
    "print(\"The value of my_var is: \" + my_var)"
   ]
  },
  {
   "cell_type": "code",
   "execution_count": 16,
   "metadata": {},
   "outputs": [],
   "source": [
    "# Similarly, if we edit functions we need to re-execute the cell for\n",
    "# the changes to take effect\n",
    "\n",
    "# Let's start with a function that has a spelling error\n",
    "def hello_not(name):\n",
    "    print(\"Hello\", name)"
   ]
  },
  {
   "cell_type": "code",
   "execution_count": 17,
   "metadata": {},
   "outputs": [
    {
     "name": "stdout",
     "output_type": "stream",
     "text": [
      "Helo Jon\n"
     ]
    }
   ],
   "source": [
    "hello_not(\"Jon\")"
   ]
  },
  {
   "cell_type": "code",
   "execution_count": 18,
   "metadata": {},
   "outputs": [
    {
     "name": "stdout",
     "output_type": "stream",
     "text": [
      "Helo Jane\n"
     ]
    }
   ],
   "source": [
    "# We can fix the error, but if we forget to re-execute the cell\n",
    "# we will get the same result:\n",
    "\n",
    "hello_not(\"Jane\")"
   ]
  },
  {
   "cell_type": "code",
   "execution_count": null,
   "metadata": {},
   "outputs": [],
   "source": []
  }
 ],
 "metadata": {
  "kernelspec": {
   "display_name": "Python 3",
   "language": "python",
   "name": "python3"
  },
  "language_info": {
   "codemirror_mode": {
    "name": "ipython",
    "version": 3
   },
   "file_extension": ".py",
   "mimetype": "text/x-python",
   "name": "python",
   "nbconvert_exporter": "python",
   "pygments_lexer": "ipython3",
   "version": "3.8.3"
  }
 },
 "nbformat": 4,
 "nbformat_minor": 4
}

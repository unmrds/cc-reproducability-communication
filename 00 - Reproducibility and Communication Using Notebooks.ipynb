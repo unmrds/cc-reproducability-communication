{
 "cells": [
  {
   "cell_type": "markdown",
   "metadata": {},
   "source": [
    "# Reproducibility and Communication Using Notebooks (Jupyter & R)\n",
    "\n",
    "**Karl Benedict (kbene@unm.edu), and Jonathan Wheeler** - Research Data Services, University Libraries, University of New Mexico\n",
    "\n",
    "This notebook in Github: [bit.ly/cc-reproduce-intro](https://bit.ly/cc-reproduce-intro)\n",
    "\n",
    "Launch the workshop in Pangeo for the hosted Jupyter Notebook environment: [![Binder](https://binder.pangeo.io/badge_logo.svg)](https://binder.pangeo.io/v2/gh/unmrds/cc-reproducibility-communication.git/master)\n",
    "\n",
    "Launch the workshop in RStudio Cloud for the hosted (account required) RStudio environment: [![RStudio Cloud](images/RstudioCloudButton.png)](https://rstudio.cloud/project/2472137)\n"
   ]
  },
  {
   "cell_type": "markdown",
   "metadata": {},
   "source": [
    "The development of effective documentation and accesible and reusable methods in scientific analysis can make a significant contribution to the reproducibility and understanding of a research activity. As noted by *Goodman et al. (2016)*\n",
    "\n",
    "> According to a U.S. National Science Foundation (NSF) subcommittee on replicability in science [Bollen et al., 2015], \"reproducibility refers to the ability of a researcher to duplicate the results of a prior study using the same materials as were used by the original investigator ...\" Documenting this kind of reproducibility thus requires, at a minimum the **sharing of analytical datasets** (original or processed data), **relevant metadata**, **analytical code**, and **related software**. (emphasis added)\n",
    "\n",
    "The integration of executable code with blocks of narrative content within notebook systems such as those provided in RStudio and the Jupyter Notebook (and Lab) software environments provides a streamined way to bring these minimum components (data, metadata, code, and software) into a package that can be easily shared with others for review and reuse. \n",
    "\n",
    "This workshop will provide\n",
    "\n",
    "1. A high-level introduction to the notebook interfaces provided for R and Python through the RStudio and Jupyter Notebook environments.\n",
    "\n",
    " * [Jupyter Notebook Introduction](01%20-%20Introduction%20to%20Jupyter%20Notebooks%20.ipynb)\n",
    " * [R Notebook Introduction](01-Introduction%20to%20RStudio.Rmd)\n",
    "    \n",
    "2. An introduction to Markdown as a language supported by both systems for adding narrative content to notebooks\n",
    "\n",
    " * [Pandoc markdown syntax introduction](02%20-%20Pandoc%20Mardown%20Syntax.ipynb)\n",
    " * [Jupyter Notebook Markdown Reference](https://jupyter-notebook.readthedocs.io/en/stable/examples/Notebook/Working%20With%20Markdown%20Cells.html)\n",
    " * [Adam Pritchard's Markdown Cheatsheet](https://github.com/adam-p/markdown-here/wiki/Markdown-Cheatsheet#lists)\n",
    " * [R Markdown Basics](https://rmarkdown.rstudio.com/authoring_basics.html), [cheatsheet](https://www.rstudio.com/wp-content/uploads/2016/03/rmarkdown-cheatsheet-2.0.pdf), [R markdown pandoc reference](https://rmarkdown.rstudio.com/authoring_pandoc_markdown.html%23raw-tex) and [Pandoc markdown reference](https://pandoc.org/MANUAL.html#pandocs-markdown)\n",
    "\n",
    "3. Sample notebooks illustrating structure, content, and output options\n",
    "\n",
    "  * Kepler Data Analysis - [R markdown (within workshop platform)](/edit/cc-R-RStudio/cc-R-Examples/02-RStudio-Examples.Rmd)  - quick access to a locally running instance of [RStudio Server](http://localhost:8787)\n",
    "  * Library Shelf Capacity Analysis - [Jupyter Notebook (within workshop platform)](/notebooks/cc-python/Space%20Analysis%20.ipynb)"
   ]
  },
  {
   "cell_type": "markdown",
   "metadata": {},
   "source": [
    "## References Cited\n",
    "\n",
    "K. Bollen, J. T. Cacioppo, R. Kaplan, J. Krosnick, J. L. Olds, *Social, behavioral, and Economic Sciences Perspectives on Robust and REliable Science* (National Science Foundation, Arlington, VA, 2015). \n",
    "\n",
    "S. N. Goodman, D. Fanelli, J. P. A. loannidis, \"What does research reproducibility mean?\" *Science Translational Medicine* Vol 8 (341). DOI: 10.1126/scitranslmed.aaf5027. "
   ]
  },
  {
   "cell_type": "code",
   "execution_count": null,
   "metadata": {},
   "outputs": [],
   "source": []
  }
 ],
 "metadata": {
  "kernelspec": {
   "display_name": "Python 3",
   "language": "python",
   "name": "python3"
  },
  "language_info": {
   "codemirror_mode": {
    "name": "ipython",
    "version": 3
   },
   "file_extension": ".py",
   "mimetype": "text/x-python",
   "name": "python",
   "nbconvert_exporter": "python",
   "pygments_lexer": "ipython3",
   "version": "3.8.5"
  }
 },
 "nbformat": 4,
 "nbformat_minor": 2
}

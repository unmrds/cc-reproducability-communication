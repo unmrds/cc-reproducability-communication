{
 "cells": [
  {
   "cell_type": "markdown",
   "metadata": {},
   "source": [
    "# Reproducibility and Communication Using Notebooks (Jupyter & R)"
   ]
  },
  {
   "cell_type": "markdown",
   "metadata": {},
   "source": [
    "The development of effective documentation and accesible and reusable methods in scientific analysis can make a significant contribution to the reproducibility and understanding of a research activity. As noted by *Goodman et al. (2016)*\n",
    "\n",
    "> According to a U.S. National Science Foundation (NSF) subcommittee on replicability in science [Bollen et al., 2015], \"reproducibility refers to the ability of a researcher to duplicate the results of a prior study using the same materials as were used by the original investigator ...\" Documenting this kind of reproducibility thus requires, at a minimum the **sharing of analytical datasets** (original or processed data), **relevant metadata**, **analytical code**, and **related software**. (emphasis added)\n",
    "\n",
    "The integration of executable code with blocks of narrative content within notebook systems such as those provided in RStudio and the Jupyter Notebook (and Lab) software environments provides a streamined way to bring these minimum components (data, metadata, code, and software) into a package that can be easily shared with others for review and reuse. \n",
    "\n",
    "This workshop will provide\n",
    "\n",
    "1. A high-level introduction to the notebook interfaces provides for R and Python through the RStudio and Jupyter Notebook environments. \n",
    "2. An introduction to Markdown as a language supported by both systems for adding narrative content to notebooks\n",
    "3. Output options from both platforms for sharing the contents of your notebooks"
   ]
  },
  {
   "cell_type": "markdown",
   "metadata": {},
   "source": [
    "## References Cited\n",
    "\n",
    "K. Bollen, J. T. Cacioppo, R. Kaplan, J. Krosnick, J. L. Olds, *Social, behavioral, and Economic Sciences Perspectives on Robust and REliable Science* (National Science Foundation, Arlington, VA, 2015). \n",
    "\n",
    "S. N. Goodman, D. Fanelli, J. P. A. loannidis, \"What does research reproducibility mean?\" *Science Translational Medicine* Vol 8 (341). DOI: 10.1126/scitranslmed.aaf5027. "
   ]
  },
  {
   "cell_type": "code",
   "execution_count": null,
   "metadata": {},
   "outputs": [],
   "source": []
  }
 ],
 "metadata": {
  "kernelspec": {
   "display_name": "Python 3",
   "language": "python",
   "name": "python3"
  },
  "language_info": {
   "codemirror_mode": {
    "name": "ipython",
    "version": 3
   },
   "file_extension": ".py",
   "mimetype": "text/x-python",
   "name": "python",
   "nbconvert_exporter": "python",
   "pygments_lexer": "ipython3",
   "version": "3.6.4"
  }
 },
 "nbformat": 4,
 "nbformat_minor": 2
}

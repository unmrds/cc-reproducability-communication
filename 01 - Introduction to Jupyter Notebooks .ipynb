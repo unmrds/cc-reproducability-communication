{
 "cells": [
  {
   "cell_type": "markdown",
   "metadata": {},
   "source": [
    "# Jupyter Notebooks Introduction\n",
    "\n",
    "This notebook can be accessed here: https://github.com/unmrds/cc-reproducibility-communication/blob/master/01%20-%20Introduction%20to%20Jupyter%20Notebooks%20.ipynb\n",
    "\n",
    "> The Jupyter Notebook is an open-source web application that allows you to create and share documents that contain live code, equations, visualizations and explanatory text. (http://jupyter.org)\n",
    "\n",
    "You can practice and play with code in the hosted Pangeo binder environment for this workshop. [![Binder](https://binder.pangeo.io/badge_logo.svg)](https://binder.pangeo.io/v2/gh/unmrds/cc-reproducibility-communication.git/master)\n",
    "\n",
    "## Why would you want to use Jupyter Notebook in your work?\n",
    "\n",
    "* Develop an analysis that is documented and repeatable\n",
    "* Share the results of your work with collaborators and an audience\n",
    "* Learn a programming language in an easy to use environment\n",
    "* Access your materials through any device that can connect to the internet, or\n",
    "* Run it on your local computer without an internet connection\n",
    "* Access a wealth of tools for analyzing and visualizing data\n",
    "* Generate multiple representations of the content you build in your notebook\n",
    "\n",
    "## Notebooks?\n",
    "\n",
    "The notebook model for building interactive documents that combine text and executable content has been around since at least 1988 when *Mathematica* was released with its notebook interface that combined descriptive text and executable blocks of code. Since then many analytic tools have been developed that use the notebook model for combining descriptive text (comments and notes) with executable code. The distinguishing characteristic of Jupyter notebooks (and its predacessor iPython notebook) is the delivery of the notebook interface through a web application that significantly increases the portability of the notebooks as they can easily be rendered in static form through  systems such as [nbviewer](http://nbviewer.jupyter.org) and GitHub, and in an interactive form through locally running notebook servers (based on a local installer or Docker container), hosted platforms such as  [Anaconda Enterprise Notebooks](https://docs.anaconda.com/ae-notebooks/4.0/index.html), [CoCalc](https://doc.cocalc.com), or even in a platform that you can roll for yourself in the cloud. \n",
    "\n",
    "## How can you get it for yourself?\n",
    "\n",
    "There are a number of ways for getting the needed software components that are required for a locally hosted Jupyter Notebook server. A commonly recommended approach is to install [*Anaconda*](https://www.anaconda.com/products/individual) which will provide you with a self-contained installation of Python, the Jupyter Notebook and a bunch of other packages that you might find helpful in doing your analyses. If Python is not your language of choice, there are over [88 other kernels](https://github.com/jupyter/jupyter/wiki/Jupyter-kernels) representing alternative languages that you can integrate into the Jupyter notebook interface. \n",
    "\n",
    "## Where can I see some examples of Jupyter Notebook in action?\n",
    "\n",
    "Jupyter Notebooks are showing up in a lot of places, but some great collections of notebooks (both Jupyter and the older iPython flavors) are found in a few galleries:\n",
    "\n",
    "* [A Gallery of interesting Jupyter Notebooks](https://github.com/jupyter/jupyter/wiki/A-gallery-of-interesting-Jupyter-Notebooks)\n",
    "* [Plotly's](https://plot.ly/feed/) [collection of notebooks](https://plot.ly/ipython-notebooks/) that illustrate the use of Plotly within notebooks\n",
    "\n",
    "\n"
   ]
  },
  {
   "cell_type": "code",
   "execution_count": null,
   "metadata": {},
   "outputs": [],
   "source": []
  }
 ],
 "metadata": {
  "kernelspec": {
   "display_name": "Python 3",
   "language": "python",
   "name": "python3"
  },
  "language_info": {
   "codemirror_mode": {
    "name": "ipython",
    "version": 3
   },
   "file_extension": ".py",
   "mimetype": "text/x-python",
   "name": "python",
   "nbconvert_exporter": "python",
   "pygments_lexer": "ipython3",
   "version": "3.8.5"
  }
 },
 "nbformat": 4,
 "nbformat_minor": 1
}
